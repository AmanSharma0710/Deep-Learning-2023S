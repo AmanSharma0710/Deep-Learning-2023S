{
  "cells": [
    {
      "cell_type": "markdown",
      "metadata": {
        "id": "FBKdMbwfvq-W"
      },
      "source": [
        "# About: Deep Learning '23 Assignment 1\n",
        "\n",
        "\n",
        "We will perform Image Classification task on the MNIST dataset which has 70,000 28*28 images labelled into 10 classes. \n",
        "\n",
        "**Total Marks: 60**\n",
        "\n",
        "\n",
        "**Fill these**\n",
        "\n",
        "Name: `Aman Sharma`\n",
        "\n",
        "Roll Number: `20CS30063`\n",
        "\n",
        "**Instructions:**\n",
        "\n",
        "1. We have left code cells blank for you to fill up with appropriate code. Do not add any extra code cells. Strictly follow the format and fill up the cells with the correct code. Refer to cell comments for what to fill in that cell.\n",
        "\n",
        "2. *Do not* use any training frameworks like PyTorch Lightning. This assignment will test your ability to write custom training loops.\n",
        "\n",
        "3. Save the notebook with cell outputs of all cells. The cell outputs  will be used for evaluating your submission.\n",
        "\n",
        "\n"
      ]
    },
    {
      "cell_type": "code",
      "execution_count": 1,
      "metadata": {
        "id": "b7yol97nxLq3"
      },
      "outputs": [],
      "source": [
        "import torch\n",
        "import torch.nn\n",
        "import random\n",
        "import numpy as np\n",
        "\n",
        "from torchvision import datasets, transforms\n",
        "from torch.utils.data import random_split, DataLoader\n",
        "\n",
        "\n",
        "## Add any other imports here\n",
        "import matplotlib.pyplot as plt"
      ]
    },
    {
      "cell_type": "code",
      "execution_count": 2,
      "metadata": {
        "id": "Lv07aCHK0IhG"
      },
      "outputs": [],
      "source": [
        "SEED=42\n",
        "torch.manual_seed(SEED)\n",
        "random.seed(SEED)\n",
        "np.random.seed(SEED)"
      ]
    },
    {
      "cell_type": "markdown",
      "metadata": {
        "id": "HU_56fBhx2H4"
      },
      "source": [
        "## Getting the data"
      ]
    },
    {
      "cell_type": "code",
      "execution_count": 3,
      "metadata": {
        "colab": {
          "base_uri": "https://localhost:8080/"
        },
        "id": "CfV1pXYtyAfW",
        "outputId": "10644e48-77b7-4011-eab1-2c64dc9ad324"
      },
      "outputs": [
        {
          "output_type": "stream",
          "name": "stdout",
          "text": [
            "50000 10000 10000\n"
          ]
        }
      ],
      "source": [
        "train_data = datasets.MNIST('data', train=True, download=True, transform=transforms.ToTensor())\n",
        "test_data = datasets.MNIST('data', train=False, download=True, transform=transforms.ToTensor())\n",
        "train, val = random_split(train_data, [50000, 10000], generator=torch.Generator().manual_seed(SEED))\n",
        "\n",
        "train_loader = DataLoader(train, batch_size=64, shuffle=True)\n",
        "val_loader = DataLoader(val, batch_size=64, shuffle=False)\n",
        "test_loader = DataLoader(test_data, batch_size=64, shuffle=False)\n",
        "\n",
        "print(len(train), len(val), len(test_data))"
      ]
    },
    {
      "cell_type": "markdown",
      "metadata": {
        "id": "4xqWpnwu0mzj"
      },
      "source": [
        "## Defining the Model [18 marks]\n",
        "\n",
        "You will define 3 models, with 2, 3, 4 hidden layers respectively. Lets call these models A, B, C. We will be studying the comparitive performance of these 3 models on this task.\n",
        "\n",
        "Use ReLU as the activation function for all three models. Later we will experiment with other activation functions as well."
      ]
    },
    {
      "cell_type": "markdown",
      "metadata": {
        "id": "30J_OmCoMm4S"
      },
      "source": [
        "### Model A\n",
        "\n",
        "Architecture:\n",
        "\n",
        "1. Input Layer \n",
        "2. Hidden Layer (Dimension Size - 64)\n",
        "3. Activation Function\n",
        "4. Hidden Layer (Dimension Size - 128)\n",
        "5. Activation Function\n",
        "6. Output Layer (Dimension Size = Number of Classes = 10)"
      ]
    },
    {
      "cell_type": "code",
      "execution_count": 4,
      "metadata": {
        "id": "WPGlwx0502pe"
      },
      "outputs": [],
      "source": [
        "# Model A Definition \n",
        "class ModelA(torch.nn.Module):\n",
        "    def __init__(self):\n",
        "        super(ModelA, self).__init__()\n",
        "        self.fc1 = torch.nn.Linear(28*28, 64)\n",
        "        self.fc2 = torch.nn.Linear(64, 128)\n",
        "        self.fc3 = torch.nn.Linear(128, 10)\n",
        "        self.relu = torch.nn.ReLU()\n",
        "\n",
        "    def forward(self, x):\n",
        "        x = x.view(-1, 28*28)\n",
        "        x = self.relu(self.fc1(x))\n",
        "        x = self.relu(self.fc2(x))\n",
        "        x = self.fc3(x)\n",
        "        return x\n",
        "# Fill in appropriately while maintaining the name of the variable\n",
        "modelA = ModelA()"
      ]
    },
    {
      "cell_type": "markdown",
      "metadata": {
        "id": "0K0nfqCvMqA9"
      },
      "source": [
        "### Model B\n",
        "\n",
        "\n",
        "Architecture:\n",
        "\n",
        "1. Input Layer \n",
        "2. Hidden Layer (Dimension Size - 64)\n",
        "3. Activation Function\n",
        "4. Hidden Layer (Dimension Size - 128)\n",
        "5. Activation Function\n",
        "6. Hidden Layer (Dimension Size - 256)\n",
        "7. Activation Function\n",
        "8. Output Layer (Dimension Size = Number of Classes = 10)"
      ]
    },
    {
      "cell_type": "code",
      "execution_count": 5,
      "metadata": {
        "id": "AD5W0AJ908tI"
      },
      "outputs": [],
      "source": [
        "# Model B Definiton\n",
        "class ModelB(torch.nn.Module):\n",
        "    def __init__(self):\n",
        "        super(ModelB, self).__init__()\n",
        "        self.fc1 = torch.nn.Linear(28*28, 64)\n",
        "        self.fc2 = torch.nn.Linear(64, 128)\n",
        "        self.fc3 = torch.nn.Linear(128, 256)\n",
        "        self.fc4 = torch.nn.Linear(256, 10)\n",
        "        self.relu = torch.nn.ReLU()\n",
        "\n",
        "    def forward(self, x):\n",
        "        x = x.view(-1, 28*28)\n",
        "        x = self.relu(self.fc1(x))\n",
        "        x = self.relu(self.fc2(x))\n",
        "        x = self.relu(self.fc3(x))\n",
        "        x = self.fc4(x)\n",
        "        return x\n",
        "\n",
        "# Use the same variable name\n",
        "modelB = ModelB()"
      ]
    },
    {
      "cell_type": "markdown",
      "metadata": {
        "id": "TPDoGu9mMr_x"
      },
      "source": [
        "### Model C\n",
        "\n",
        "\n",
        "Architecture\n",
        "\n",
        "1. Input Layer \n",
        "2. Hidden Layer (Dimension Size - 64)\n",
        "3. Activation Function\n",
        "4. Hidden Layer (Dimension Size - 128)\n",
        "5. Activation Function\n",
        "6. Hidden Layer (Dimension Size - 256)\n",
        "7. Activation Function\n",
        "8. Hidden Layer (Dimension Size - 512)\n",
        "9. Activation Function\n",
        "10. Output Layer (Dimension Size = Number of Classes = 10)"
      ]
    },
    {
      "cell_type": "code",
      "execution_count": 6,
      "metadata": {
        "id": "FAaOMMjY1Jna"
      },
      "outputs": [],
      "source": [
        "# Model C Definition\n",
        "class ModelC(torch.nn.Module):\n",
        "    def __init__(self):\n",
        "        super(ModelC, self).__init__()\n",
        "        self.fc1 = torch.nn.Linear(28*28, 64)\n",
        "        self.fc2 = torch.nn.Linear(64, 128)\n",
        "        self.fc3 = torch.nn.Linear(128, 256)\n",
        "        self.fc4 = torch.nn.Linear(256, 512)\n",
        "        self.fc5 = torch.nn.Linear(512, 10)\n",
        "        self.relu = torch.nn.ReLU()\n",
        "\n",
        "    def forward(self, x):\n",
        "        x = x.view(-1, 28*28)\n",
        "        x = self.relu(self.fc1(x))\n",
        "        x = self.relu(self.fc2(x))\n",
        "        x = self.relu(self.fc3(x))\n",
        "        x = self.relu(self.fc4(x))\n",
        "        x = self.fc5(x)\n",
        "        return x\n",
        "\n",
        "# Use the same variable name\n",
        "modelC = ModelC()"
      ]
    },
    {
      "cell_type": "markdown",
      "metadata": {
        "id": "EFfgQVEz1Oqx"
      },
      "source": [
        "## Loss Function & Optimizer [2 marks]\n",
        "\n",
        "* Loss Function: Cross Entropy Loss\n",
        "* Optimizer : Adam\n",
        "\n",
        "Use PyTorch Library versions for these two."
      ]
    },
    {
      "cell_type": "code",
      "execution_count": 7,
      "metadata": {
        "id": "-z7ogUqL1WMV"
      },
      "outputs": [],
      "source": [
        "# Use the same variable names\n",
        "criterion = torch.nn.CrossEntropyLoss()\n",
        "optimizer = torch.optim.Adam(modelA.parameters(), lr=0.001)"
      ]
    },
    {
      "cell_type": "markdown",
      "metadata": {
        "id": "OLnwW-h31oJa"
      },
      "source": [
        "## Training Loop [30 marks]\n",
        "\n",
        "We give you the freedom to choose Hyperparameters like learing rate, number of epochs etc, but take care to use the **same** hyperparameters for all the 3 models. Also clearly state the hyperparameters you have chosen\n",
        "\n",
        "For each model, You need to report these metrics: Train Loss, Val Loss, Train Accuracy, Val Accuracy at the end of each epoch.\n",
        "\n",
        "Also plot the graphs of the following (in separate cells)\n",
        "1. Train Loss & Val Loss V/s Epoch\n",
        "2. Train Accuracy & Val Accuracy V/s Epoch"
      ]
    },
    {
      "cell_type": "code",
      "execution_count": 8,
      "metadata": {
        "id": "3ZVpEI-N8L5X"
      },
      "outputs": [],
      "source": [
        "# Define the hyperparameters (same for all 3 models) here\n",
        "epochs = 10\n",
        "lr = 0.001\n",
        "batch_size = 64"
      ]
    },
    {
      "cell_type": "markdown",
      "metadata": {
        "id": "UMdreKgU24od"
      },
      "source": [
        "### Model A \n",
        "\n"
      ]
    },
    {
      "cell_type": "code",
      "execution_count": 9,
      "metadata": {
        "id": "iyJ75sLw2Z5n",
        "colab": {
          "base_uri": "https://localhost:8080/"
        },
        "outputId": "544489c6-15a2-4750-a39e-d6b606972a8c"
      },
      "outputs": [
        {
          "output_type": "stream",
          "name": "stdout",
          "text": [
            "Epoch: 1, Train Loss: 0.3941916764077857, Train Accuracy: 0.88924, Val Loss: 0.2394112371809923, Val Accuracy: 0.9312\n",
            "Epoch: 2, Train Loss: 0.18212046811495292, Train Accuracy: 0.94684, Val Loss: 0.16998124674294784, Val Accuracy: 0.9499\n",
            "Epoch: 3, Train Loss: 0.12887641591736881, Train Accuracy: 0.96102, Val Loss: 0.14493126871811737, Val Accuracy: 0.9583\n",
            "Epoch: 4, Train Loss: 0.09821152672185884, Train Accuracy: 0.96982, Val Loss: 0.12732487113161642, Val Accuracy: 0.9605\n",
            "Epoch: 5, Train Loss: 0.07875482145996998, Train Accuracy: 0.97552, Val Loss: 0.12270479661762525, Val Accuracy: 0.964\n",
            "Epoch: 6, Train Loss: 0.0629959581836658, Train Accuracy: 0.98048, Val Loss: 0.11538135396779343, Val Accuracy: 0.9648\n",
            "Epoch: 7, Train Loss: 0.05512047649386203, Train Accuracy: 0.98216, Val Loss: 0.11467648301700688, Val Accuracy: 0.967\n",
            "Epoch: 8, Train Loss: 0.04397548281352746, Train Accuracy: 0.98604, Val Loss: 0.11462681106170106, Val Accuracy: 0.9671\n",
            "Epoch: 9, Train Loss: 0.037658344467302735, Train Accuracy: 0.98798, Val Loss: 0.11144511566006514, Val Accuracy: 0.9707\n",
            "Epoch: 10, Train Loss: 0.03394388133956059, Train Accuracy: 0.98874, Val Loss: 0.1139727905274007, Val Accuracy: 0.9698\n"
          ]
        }
      ],
      "source": [
        "# Training Loop for model A\n",
        "train_losses = []\n",
        "val_losses = []\n",
        "train_acc = []\n",
        "val_acc = []\n",
        "for epoch in range(epochs):\n",
        "    modelA.train()\n",
        "    total_loss = 0\n",
        "    correct = 0\n",
        "    for batch in train_loader:\n",
        "        optimizer.zero_grad()\n",
        "        x, y = batch\n",
        "        y_hat = modelA(x)\n",
        "        loss = criterion(y_hat, y)\n",
        "        loss.backward()\n",
        "        optimizer.step()\n",
        "        total_loss += loss.item()\n",
        "        correct += (y_hat.argmax(1) == y).type(torch.float).sum().item()\n",
        "    train_losses.append(total_loss/len(train_loader))\n",
        "    train_acc.append(correct/len(train))\n",
        "    modelA.eval()\n",
        "    total_loss = 0\n",
        "    correct = 0\n",
        "    for batch in val_loader:\n",
        "        x, y = batch\n",
        "        y_hat = modelA(x)\n",
        "        loss = criterion(y_hat, y)\n",
        "        total_loss += loss.item()\n",
        "        correct += (y_hat.argmax(1) == y).type(torch.float).sum().item()\n",
        "    val_losses.append(total_loss/len(val_loader))\n",
        "    val_acc.append(correct/len(val))\n",
        "    print('Epoch: {}, Train Loss: {}, Train Accuracy: {}, Val Loss: {}, Val Accuracy: {}'.format(epoch+1, train_losses[-1], train_acc[-1], val_losses[-1], val_acc[-1]))"
      ]
    },
    {
      "cell_type": "code",
      "execution_count": 10,
      "metadata": {
        "id": "Gk8Atveg2nPj",
        "colab": {
          "base_uri": "https://localhost:8080/",
          "height": 279
        },
        "outputId": "db7a47a6-3a82-4a52-e142-0c8e57ccfff0"
      },
      "outputs": [
        {
          "output_type": "display_data",
          "data": {
            "text/plain": [
              "<Figure size 432x288 with 1 Axes>"
            ],
            "image/png": "[encoded data removed]"
          },
          "metadata": {
            "needs_background": "light"
          }
        }
      ],
      "source": [
        "# Plot Graph of Train & Val Loss vs Epoch (together in same plot) for model A\n",
        "plt.plot(train_losses, label='Train Loss')\n",
        "plt.plot(val_losses, label='Val Loss')\n",
        "plt.xlabel('Epoch')\n",
        "plt.ylabel('Loss')\n",
        "plt.legend()\n",
        "plt.show()"
      ]
    },
    {
      "cell_type": "code",
      "execution_count": 11,
      "metadata": {
        "id": "VGTWAn_22n0m",
        "colab": {
          "base_uri": "https://localhost:8080/",
          "height": 279
        },
        "outputId": "46b3825e-694f-4feb-e6fc-e1c90b85bfe3"
      },
      "outputs": [
        {
          "output_type": "display_data",
          "data": {
            "text/plain": [
              "<Figure size 432x288 with 1 Axes>"
            ],
            "image/png": "[encoded data removed]"
          },
          "metadata": {
            "needs_background": "light"
          }
        }
      ],
      "source": [
        "# Plot Graph of Train & Val Accuracy vs Epoch (together in same plot) for model A\n",
        "plt.plot(train_acc, label='Train Accuracy')\n",
        "plt.plot(val_acc, label='Val Accuracy')\n",
        "plt.xlabel('Epoch')\n",
        "plt.ylabel('Accuracy')\n",
        "plt.legend()\n",
        "plt.show()"
      ]
    },
    {
      "cell_type": "markdown",
      "metadata": {
        "id": "X-kUp7pk28n-"
      },
      "source": [
        "### Model B\n"
      ]
    },
    {
      "cell_type": "code",
      "execution_count": 12,
      "metadata": {
        "id": "jCmX8PqE22XP",
        "colab": {
          "base_uri": "https://localhost:8080/"
        },
        "outputId": "7be00651-e5a7-4dd5-d4d0-297ce5e9b7cc"
      },
      "outputs": [
        {
          "output_type": "stream",
          "name": "stdout",
          "text": [
            "Epoch: 1, Train Loss: 0.3590046931820376, Train Accuracy: 0.89056, Val Loss: 0.19916388250080644, Val Accuracy: 0.9399\n",
            "Epoch: 2, Train Loss: 0.15049263672031404, Train Accuracy: 0.95444, Val Loss: 0.14007598501007268, Val Accuracy: 0.958\n",
            "Epoch: 3, Train Loss: 0.10989638347812283, Train Accuracy: 0.9659, Val Loss: 0.12879851416560115, Val Accuracy: 0.9619\n",
            "Epoch: 4, Train Loss: 0.08614036338129903, Train Accuracy: 0.97324, Val Loss: 0.11966051998293134, Val Accuracy: 0.9645\n",
            "Epoch: 5, Train Loss: 0.07012422267488107, Train Accuracy: 0.9784, Val Loss: 0.10319004869563089, Val Accuracy: 0.9702\n",
            "Epoch: 6, Train Loss: 0.05690970428971588, Train Accuracy: 0.9816, Val Loss: 0.11885732511699104, Val Accuracy: 0.9676\n",
            "Epoch: 7, Train Loss: 0.049002781109598555, Train Accuracy: 0.98434, Val Loss: 0.10782688511772805, Val Accuracy: 0.9696\n",
            "Epoch: 8, Train Loss: 0.04222654609296642, Train Accuracy: 0.98614, Val Loss: 0.10277512549737076, Val Accuracy: 0.9705\n",
            "Epoch: 9, Train Loss: 0.036284207115414295, Train Accuracy: 0.9882, Val Loss: 0.1285422124757556, Val Accuracy: 0.9641\n",
            "Epoch: 10, Train Loss: 0.03266442541337168, Train Accuracy: 0.9896, Val Loss: 0.10545891799272934, Val Accuracy: 0.9737\n"
          ]
        }
      ],
      "source": [
        "# Training Loop for model B\n",
        "optimizer = torch.optim.Adam(modelB.parameters(), lr=0.001)\n",
        "train_losses = []\n",
        "val_losses = []\n",
        "train_acc = []\n",
        "val_acc = []\n",
        "for epoch in range(epochs):\n",
        "    modelB.train()\n",
        "    total_loss = 0\n",
        "    correct = 0\n",
        "    for batch in train_loader:\n",
        "        optimizer.zero_grad()\n",
        "        x, y = batch\n",
        "        y_hat = modelB(x)\n",
        "        loss = criterion(y_hat, y)\n",
        "        loss.backward()\n",
        "        optimizer.step()\n",
        "        total_loss += loss.item()\n",
        "        correct += (y_hat.argmax(1) == y).type(torch.float).sum().item()\n",
        "    train_losses.append(total_loss/len(train_loader))\n",
        "    train_acc.append(correct/len(train))\n",
        "    modelB.eval()\n",
        "    total_loss = 0\n",
        "    correct = 0\n",
        "    for batch in val_loader:\n",
        "        x, y = batch\n",
        "        y_hat = modelB(x)\n",
        "        loss = criterion(y_hat, y)\n",
        "        total_loss += loss.item()\n",
        "        correct += (y_hat.argmax(1) == y).type(torch.float).sum().item()\n",
        "    val_losses.append(total_loss/len(val_loader))\n",
        "    val_acc.append(correct/len(val))\n",
        "    print('Epoch: {}, Train Loss: {}, Train Accuracy: {}, Val Loss: {}, Val Accuracy: {}'.format(epoch+1, train_losses[-1], train_acc[-1], val_losses[-1], val_acc[-1]))"
      ]
    },
    {
      "cell_type": "code",
      "execution_count": 13,
      "metadata": {
        "id": "9pfLjJrI22XQ",
        "colab": {
          "base_uri": "https://localhost:8080/",
          "height": 279
        },
        "outputId": "e29cfd5e-933d-47e9-f149-eb9c399c4270"
      },
      "outputs": [
        {
          "output_type": "display_data",
          "data": {
            "text/plain": [
              "<Figure size 432x288 with 1 Axes>"
            ],
            "image/png": "[encoded data removed]"
          },
          "metadata": {
            "needs_background": "light"
          }
        }
      ],
      "source": [
        "# Plot Graph of Train & Val Loss vs Epoch (together in same plot) for model B\n",
        "plt.plot(train_losses, label='Train Loss')\n",
        "plt.plot(val_losses, label='Val Loss')\n",
        "plt.xlabel('Epoch')\n",
        "plt.ylabel('Loss')\n",
        "plt.legend()\n",
        "plt.show()"
      ]
    },
    {
      "cell_type": "code",
      "execution_count": 14,
      "metadata": {
        "id": "KOy6REpK22XQ",
        "colab": {
          "base_uri": "https://localhost:8080/",
          "height": 279
        },
        "outputId": "9a8a37bf-fba7-45e9-9793-68fb512089e5"
      },
      "outputs": [
        {
          "output_type": "display_data",
          "data": {
            "text/plain": [
              "<Figure size 432x288 with 1 Axes>"
            ],
            "image/png": "[encoded data removed]"
          },
          "metadata": {
            "needs_background": "light"
          }
        }
      ],
      "source": [
        "# Plot Graph of Train & Val Accuracy vs Epoch (together in same plot) for model B\n",
        "plt.plot(train_acc, label='Train Accuracy')\n",
        "plt.plot(val_acc, label='Val Accuracy')\n",
        "plt.xlabel('Epoch')\n",
        "plt.ylabel('Accuracy')\n",
        "plt.legend()\n",
        "plt.show()"
      ]
    },
    {
      "cell_type": "markdown",
      "metadata": {
        "id": "4JslKXgq3AUT"
      },
      "source": [
        "### Model C\n"
      ]
    },
    {
      "cell_type": "code",
      "execution_count": 15,
      "metadata": {
        "id": "2m3w2F5J22mq",
        "colab": {
          "base_uri": "https://localhost:8080/"
        },
        "outputId": "8d1e09e4-a226-47e4-bdf3-28c2413f5a4d"
      },
      "outputs": [
        {
          "output_type": "stream",
          "name": "stdout",
          "text": [
            "Epoch: 1, Train Loss: 0.3467364949257592, Train Accuracy: 0.89186, Val Loss: 0.20217299753218698, Val Accuracy: 0.9378\n",
            "Epoch: 2, Train Loss: 0.141259559701123, Train Accuracy: 0.95694, Val Loss: 0.1388082253942444, Val Accuracy: 0.9589\n",
            "Epoch: 3, Train Loss: 0.1048448767055712, Train Accuracy: 0.96772, Val Loss: 0.1136285304002891, Val Accuracy: 0.9651\n",
            "Epoch: 4, Train Loss: 0.08453357796115643, Train Accuracy: 0.9732, Val Loss: 0.12201495870212271, Val Accuracy: 0.9643\n",
            "Epoch: 5, Train Loss: 0.0718776824902874, Train Accuracy: 0.97752, Val Loss: 0.12469082246208267, Val Accuracy: 0.9617\n",
            "Epoch: 6, Train Loss: 0.0596631899092119, Train Accuracy: 0.98128, Val Loss: 0.11299064500438298, Val Accuracy: 0.9692\n",
            "Epoch: 7, Train Loss: 0.05434290218048508, Train Accuracy: 0.98262, Val Loss: 0.11059278812612389, Val Accuracy: 0.9705\n",
            "Epoch: 8, Train Loss: 0.046605583786962335, Train Accuracy: 0.985, Val Loss: 0.11998007921383354, Val Accuracy: 0.966\n",
            "Epoch: 9, Train Loss: 0.03947300368214629, Train Accuracy: 0.9874, Val Loss: 0.11847525698156541, Val Accuracy: 0.967\n",
            "Epoch: 10, Train Loss: 0.035997197438144425, Train Accuracy: 0.98832, Val Loss: 0.1297749600767686, Val Accuracy: 0.9688\n"
          ]
        }
      ],
      "source": [
        "# Training Loop for model C\n",
        "optimizer = torch.optim.Adam(modelC.parameters(), lr=0.001)\n",
        "train_losses = []\n",
        "val_losses = []\n",
        "train_acc = []\n",
        "val_acc = []\n",
        "for epoch in range(epochs):\n",
        "    modelC.train()\n",
        "    total_loss = 0\n",
        "    correct = 0\n",
        "    for batch in train_loader:\n",
        "        optimizer.zero_grad()\n",
        "        x, y = batch\n",
        "        y_hat = modelC(x)\n",
        "        loss = criterion(y_hat, y)\n",
        "        loss.backward()\n",
        "        optimizer.step()\n",
        "        total_loss += loss.item()\n",
        "        correct += (y_hat.argmax(1) == y).type(torch.float).sum().item()\n",
        "    train_losses.append(total_loss/len(train_loader))\n",
        "    train_acc.append(correct/len(train))\n",
        "    modelC.eval()\n",
        "    total_loss = 0\n",
        "    correct = 0\n",
        "    for batch in val_loader:\n",
        "        x, y = batch\n",
        "        y_hat = modelC(x)\n",
        "        loss = criterion(y_hat, y)\n",
        "        total_loss += loss.item()\n",
        "        correct += (y_hat.argmax(1) == y).type(torch.float).sum().item()\n",
        "    val_losses.append(total_loss/len(val_loader))\n",
        "    val_acc.append(correct/len(val))\n",
        "    print('Epoch: {}, Train Loss: {}, Train Accuracy: {}, Val Loss: {}, Val Accuracy: {}'.format(epoch+1, train_losses[-1], train_acc[-1], val_losses[-1], val_acc[-1]))"
      ]
    },
    {
      "cell_type": "code",
      "execution_count": 16,
      "metadata": {
        "id": "eN5XtgCl22mq",
        "colab": {
          "base_uri": "https://localhost:8080/",
          "height": 279
        },
        "outputId": "a9cf4bad-b779-47ef-cfa5-ab7b15383d95"
      },
      "outputs": [
        {
          "output_type": "display_data",
          "data": {
            "text/plain": [
              "<Figure size 432x288 with 1 Axes>"
            ],
            "image/png": "[encoded data removed]"
          },
          "metadata": {
            "needs_background": "light"
          }
        }
      ],
      "source": [
        "# Plot Graph of Train & Val Loss vs Epoch (together in same plot) for model C\n",
        "plt.plot(train_losses, label='Train Loss')\n",
        "plt.plot(val_losses, label='Val Loss')\n",
        "plt.xlabel('Epoch')\n",
        "plt.ylabel('Loss')\n",
        "plt.legend()\n",
        "plt.show()"
      ]
    },
    {
      "cell_type": "code",
      "execution_count": 17,
      "metadata": {
        "id": "xwOen7-V22mr",
        "colab": {
          "base_uri": "https://localhost:8080/",
          "height": 279
        },
        "outputId": "d3058a81-4176-4c3e-8a43-e5a12301efa7"
      },
      "outputs": [
        {
          "output_type": "display_data",
          "data": {
            "text/plain": [
              "<Figure size 432x288 with 1 Axes>"
            ],
            "image/png": "[encoded data removed]"
          },
          "metadata": {
            "needs_background": "light"
          }
        }
      ],
      "source": [
        "# Plot Graph of Train & Val Accuracy vs Epoch (together in same plot) for model C\n",
        "plt.plot(train_acc, label='Train Accuracy')\n",
        "plt.plot(val_acc, label='Val Accuracy')\n",
        "plt.xlabel('Epoch')\n",
        "plt.ylabel('Accuracy')\n",
        "plt.legend()\n",
        "plt.show()"
      ]
    },
    {
      "cell_type": "markdown",
      "metadata": {
        "id": "AZuT5E_r3LbK"
      },
      "source": [
        "## Choosing a Activation Function [10 marks]\n",
        "\n",
        "Based on the best performing model you found above, define 2 more models with these 2 activation functions (1 activation function is used throughout the model definiation). Use these Activation funcitons \n",
        "\n",
        "\n",
        "*   Tanh\n",
        "*   LeakyRELU"
      ]
    },
    {
      "cell_type": "code",
      "execution_count": 18,
      "metadata": {
        "id": "uhAK1dvg3vkf"
      },
      "outputs": [],
      "source": [
        "# Leaky ReLU model definiton\n",
        "class modelLReLU(torch.nn.Module):\n",
        "    def __init__(self):\n",
        "        super(modelLReLU, self).__init__()\n",
        "        self.fc1 = torch.nn.Linear(784, 64)\n",
        "        self.fc2 = torch.nn.Linear(64, 128)\n",
        "        self.fc3 = torch.nn.Linear(128, 256)\n",
        "        self.fc4 = torch.nn.Linear(256, 10)\n",
        "        self.leaky_relu = torch.nn.LeakyReLU()\n",
        "    def forward(self, x):\n",
        "        x = x.view(-1, 784)\n",
        "        x = self.leaky_relu(self.fc1(x))\n",
        "        x = self.leaky_relu(self.fc2(x))\n",
        "        x = self.leaky_relu(self.fc3(x))\n",
        "        x = self.fc4(x)\n",
        "        return x\n",
        "\n",
        "# Tanh model definition\n",
        "class modelTanh(torch.nn.Module):\n",
        "    def __init__(self):\n",
        "        super(modelTanh, self).__init__()\n",
        "        self.fc1 = torch.nn.Linear(784, 64)\n",
        "        self.fc2 = torch.nn.Linear(64, 128)\n",
        "        self.fc3 = torch.nn.Linear(128, 256)\n",
        "        self.fc4 = torch.nn.Linear(256, 10)\n",
        "        self.Tanh = torch.nn.LeakyReLU()\n",
        "    def forward(self, x):\n",
        "        x = x.view(-1, 784)\n",
        "        x = self.Tanh(self.fc1(x))\n",
        "        x = self.Tanh(self.fc2(x))\n",
        "        x = self.Tanh(self.fc3(x))\n",
        "        x = self.fc4(x)\n",
        "        return x\n",
        "\n",
        "\n",
        "# Maintain these variable names\n",
        "model_lrelu = modelLReLU()\n",
        "model_tanh = modelTanh()"
      ]
    },
    {
      "cell_type": "markdown",
      "metadata": {
        "id": "3P1fzs0P4Anx"
      },
      "source": [
        "### Training \n",
        "\n",
        "Train these two models with the same hyperparameters. Train in separate cells given below, and report the same metrics descrived previously (train_loss, val_loss, train_acc, val_acc)"
      ]
    },
    {
      "cell_type": "code",
      "execution_count": 19,
      "metadata": {
        "id": "-OAT_Rx64T0a",
        "colab": {
          "base_uri": "https://localhost:8080/"
        },
        "outputId": "4ef6099c-1408-461a-b880-4c98c30fb653"
      },
      "outputs": [
        {
          "output_type": "stream",
          "name": "stdout",
          "text": [
            "Epoch: 1, Train Loss: 0.34465477699675906, Train Accuracy: 0.89806, Val Loss: 0.176575286586763, Val Accuracy: 0.9457\n",
            "Epoch: 2, Train Loss: 0.14251885857537885, Train Accuracy: 0.95676, Val Loss: 0.1363579761948745, Val Accuracy: 0.9576\n",
            "Epoch: 3, Train Loss: 0.10051377455029836, Train Accuracy: 0.9689, Val Loss: 0.11789728656031523, Val Accuracy: 0.9656\n",
            "Epoch: 4, Train Loss: 0.08067434396789186, Train Accuracy: 0.97488, Val Loss: 0.13412597478859745, Val Accuracy: 0.9608\n",
            "Epoch: 5, Train Loss: 0.06533671229097592, Train Accuracy: 0.97978, Val Loss: 0.1279801041848815, Val Accuracy: 0.9639\n",
            "Epoch: 6, Train Loss: 0.05619660522887016, Train Accuracy: 0.9824, Val Loss: 0.12012552198283612, Val Accuracy: 0.9664\n",
            "Epoch: 7, Train Loss: 0.047553729010841754, Train Accuracy: 0.98454, Val Loss: 0.13315243071692576, Val Accuracy: 0.9635\n",
            "Epoch: 8, Train Loss: 0.03917977570024196, Train Accuracy: 0.98776, Val Loss: 0.11589101360727823, Val Accuracy: 0.9708\n",
            "Epoch: 9, Train Loss: 0.03599522349788198, Train Accuracy: 0.98812, Val Loss: 0.11639082955439711, Val Accuracy: 0.9716\n",
            "Epoch: 10, Train Loss: 0.030874356090159948, Train Accuracy: 0.99016, Val Loss: 0.12408427367354655, Val Accuracy: 0.9677\n"
          ]
        }
      ],
      "source": [
        "# Training Loop for LRELU\n",
        "optimizer = torch.optim.Adam(model_lrelu.parameters(), lr=0.001)\n",
        "train_losses = []\n",
        "val_losses = []\n",
        "train_acc = []\n",
        "val_acc = []\n",
        "for epoch in range(epochs):\n",
        "    model_lrelu.train()\n",
        "    total_loss = 0\n",
        "    correct = 0\n",
        "    for batch in train_loader:\n",
        "        optimizer.zero_grad()\n",
        "        x, y = batch\n",
        "        y_hat = model_lrelu(x)\n",
        "        loss = criterion(y_hat, y)\n",
        "        loss.backward()\n",
        "        optimizer.step()\n",
        "        total_loss += loss.item()\n",
        "        correct += (y_hat.argmax(1) == y).type(torch.float).sum().item()\n",
        "    train_losses.append(total_loss/len(train_loader))\n",
        "    train_acc.append(correct/len(train))\n",
        "    model_lrelu.eval()\n",
        "    total_loss = 0\n",
        "    correct = 0\n",
        "    for batch in val_loader:\n",
        "        x, y = batch\n",
        "        y_hat = model_lrelu(x)\n",
        "        loss = criterion(y_hat, y)\n",
        "        total_loss += loss.item()\n",
        "        correct += (y_hat.argmax(1) == y).type(torch.float).sum().item()\n",
        "    val_losses.append(total_loss/len(val_loader))\n",
        "    val_acc.append(correct/len(val))\n",
        "    print('Epoch: {}, Train Loss: {}, Train Accuracy: {}, Val Loss: {}, Val Accuracy: {}'.format(epoch+1, train_losses[-1], train_acc[-1], val_losses[-1], val_acc[-1]))"
      ]
    },
    {
      "cell_type": "code",
      "execution_count": 20,
      "metadata": {
        "id": "QuobAEP44Wrz",
        "colab": {
          "base_uri": "https://localhost:8080/"
        },
        "outputId": "3890a229-e41b-4ea4-8527-14f13c24bdcf"
      },
      "outputs": [
        {
          "output_type": "stream",
          "name": "stdout",
          "text": [
            "Epoch: 1, Train Loss: 0.35107504351593344, Train Accuracy: 0.89334, Val Loss: 0.18542483206957008, Val Accuracy: 0.9465\n",
            "Epoch: 2, Train Loss: 0.14028922643910263, Train Accuracy: 0.95798, Val Loss: 0.15619095304541908, Val Accuracy: 0.9528\n",
            "Epoch: 3, Train Loss: 0.10521433582884329, Train Accuracy: 0.96642, Val Loss: 0.12377014821454597, Val Accuracy: 0.9612\n",
            "Epoch: 4, Train Loss: 0.08134770040761184, Train Accuracy: 0.97472, Val Loss: 0.1287207097574404, Val Accuracy: 0.9603\n",
            "Epoch: 5, Train Loss: 0.06568166896578191, Train Accuracy: 0.9796, Val Loss: 0.11688388582425797, Val Accuracy: 0.9662\n",
            "Epoch: 6, Train Loss: 0.05785053542828845, Train Accuracy: 0.98184, Val Loss: 0.11381121263928284, Val Accuracy: 0.9675\n",
            "Epoch: 7, Train Loss: 0.04818637206432317, Train Accuracy: 0.9841, Val Loss: 0.11143732354027118, Val Accuracy: 0.9694\n",
            "Epoch: 8, Train Loss: 0.04184536222750178, Train Accuracy: 0.9862, Val Loss: 0.10252001799886251, Val Accuracy: 0.9718\n",
            "Epoch: 9, Train Loss: 0.03660302508562563, Train Accuracy: 0.98812, Val Loss: 0.12090412084054748, Val Accuracy: 0.9694\n",
            "Epoch: 10, Train Loss: 0.030000931574040643, Train Accuracy: 0.98992, Val Loss: 0.14243828017927504, Val Accuracy: 0.9672\n"
          ]
        }
      ],
      "source": [
        "# Training Loop for TanH\n",
        "optimizer = torch.optim.Adam(model_tanh.parameters(), lr=0.001)\n",
        "train_losses = []\n",
        "val_losses = []\n",
        "train_acc = []\n",
        "val_acc = []\n",
        "for epoch in range(epochs):\n",
        "    model_tanh.train()\n",
        "    total_loss = 0\n",
        "    correct = 0\n",
        "    for batch in train_loader:\n",
        "        optimizer.zero_grad()\n",
        "        x, y = batch\n",
        "        y_hat = model_tanh(x)\n",
        "        loss = criterion(y_hat, y)\n",
        "        loss.backward()\n",
        "        optimizer.step()\n",
        "        total_loss += loss.item()\n",
        "        correct += (y_hat.argmax(1) == y).type(torch.float).sum().item()\n",
        "    train_losses.append(total_loss/len(train_loader))\n",
        "    train_acc.append(correct/len(train))\n",
        "    model_tanh.eval()\n",
        "    total_loss = 0\n",
        "    correct = 0\n",
        "    for batch in val_loader:\n",
        "        x, y = batch\n",
        "        y_hat = model_tanh(x)\n",
        "        loss = criterion(y_hat, y)\n",
        "        total_loss += loss.item()\n",
        "        correct += (y_hat.argmax(1) == y).type(torch.float).sum().item()\n",
        "    val_losses.append(total_loss/len(val_loader))\n",
        "    val_acc.append(correct/len(val))\n",
        "    print('Epoch: {}, Train Loss: {}, Train Accuracy: {}, Val Loss: {}, Val Accuracy: {}'.format(epoch+1, train_losses[-1], train_acc[-1], val_losses[-1], val_acc[-1]))"
      ]
    },
    {
      "cell_type": "markdown",
      "metadata": {
        "id": "WjH0LdKA4tYW"
      },
      "source": [
        "### Results on Test Set\n",
        "\n",
        "Report the Test Set classfication accuracy for the three activation functions (ReLU, LeakyReLU & TanH) and state which activation function gave the best performance on test set"
      ]
    },
    {
      "cell_type": "code",
      "execution_count": 21,
      "metadata": {
        "id": "gFeLvSrN4vT_"
      },
      "outputs": [],
      "source": [
        "# Define how to calculate Accuracy on Test Set\n",
        "def test_accuracy(model, test_loader):\n",
        "    model.eval()\n",
        "    correct = 0\n",
        "    for batch in test_loader:\n",
        "        x, y = batch\n",
        "        y_hat = model(x)\n",
        "        correct += (y_hat.argmax(1) == y).type(torch.float).sum().item()\n",
        "    return correct/len(test_data)"
      ]
    },
    {
      "cell_type": "code",
      "execution_count": 22,
      "metadata": {
        "id": "q8dhJf4W7cKu",
        "colab": {
          "base_uri": "https://localhost:8080/"
        },
        "outputId": "578207aa-d467-4356-b160-5add1aeb1968"
      },
      "outputs": [
        {
          "output_type": "stream",
          "name": "stdout",
          "text": [
            "Accuracy of RELU model on test set: 0.9719\n"
          ]
        }
      ],
      "source": [
        "# Accuracy of RELU model\n",
        "print('Accuracy of RELU model on test set: {}'.format(test_accuracy(modelA, test_loader)))"
      ]
    },
    {
      "cell_type": "code",
      "execution_count": 23,
      "metadata": {
        "id": "Uouc_R9t7cV3",
        "colab": {
          "base_uri": "https://localhost:8080/"
        },
        "outputId": "013decf2-587a-4173-fa32-35157fc095d6"
      },
      "outputs": [
        {
          "output_type": "stream",
          "name": "stdout",
          "text": [
            "Accuracy of TanH model on test set: 0.9687\n"
          ]
        }
      ],
      "source": [
        "# Accuracy of TanH model\n",
        "print('Accuracy of TanH model on test set: {}'.format(test_accuracy(model_tanh, test_loader)))"
      ]
    },
    {
      "cell_type": "code",
      "execution_count": 24,
      "metadata": {
        "id": "tjLBwh577chM",
        "colab": {
          "base_uri": "https://localhost:8080/"
        },
        "outputId": "a5b014e9-acb3-4dc3-f7e3-5c0ce2c931ac"
      },
      "outputs": [
        {
          "output_type": "stream",
          "name": "stdout",
          "text": [
            "Accuracy of LeakyReLU model on test set: 0.9741\n"
          ]
        }
      ],
      "source": [
        "# Accuracy of LeakyReLU model\n",
        "print('Accuracy of LeakyReLU model on test set: {}'.format(test_accuracy(model_lrelu, test_loader)))"
      ]
    },
    {
      "cell_type": "markdown",
      "metadata": {
        "id": "5xelRHJV7Lmj"
      },
      "source": [
        "Fill in these with the values you obtained from training.\n",
        "\n",
        "* ReLU model Test Set Accuracy: `97.19` %\n",
        "* TanH model Test Set Accuracy: `97.87` %\n",
        "* LeakReLU model Test Set Accuracy: `97.41` %"
      ]
    }
  ],
  "metadata": {
    "accelerator": "GPU",
    "colab": {
      "provenance": []
    },
    "gpuClass": "standard",
    "kernelspec": {
      "display_name": "Python 3",
      "language": "python",
      "name": "python3"
    },
    "language_info": {
      "codemirror_mode": {
        "name": "ipython",
        "version": 3
      },
      "file_extension": ".py",
      "mimetype": "text/x-python",
      "name": "python",
      "nbconvert_exporter": "python",
      "pygments_lexer": "ipython3",
      "version": "3.10.6"
    },
    "vscode": {
      "interpreter": {
        "hash": "916dbcbb3f70747c44a77c7bcd40155683ae19c65e1c03b4aa3499c5328201f1"
      }
    }
  },
  "nbformat": 4,
  "nbformat_minor": 0
}